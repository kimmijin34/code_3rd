{
  "nbformat": 4,
  "nbformat_minor": 0,
  "metadata": {
    "colab": {
      "provenance": [],
      "authorship_tag": "ABX9TyOaSQFnAN1FoIqH1yR4BLGJ",
      "include_colab_link": true
    },
    "kernelspec": {
      "name": "python3",
      "display_name": "Python 3"
    },
    "language_info": {
      "name": "python"
    }
  },
  "cells": [
    {
      "cell_type": "markdown",
      "metadata": {
        "id": "view-in-github",
        "colab_type": "text"
      },
      "source": [
        "<a href=\"https://colab.research.google.com/github/kimmijin34/code_3rd/blob/main/CTBL_1.ipynb\" target=\"_parent\"><img src=\"https://colab.research.google.com/assets/colab-badge.svg\" alt=\"Open In Colab\"/></a>"
      ]
    },
    {
      "cell_type": "markdown",
      "source": [
        "1. 학생으로부터 성적을 입력받아 합격유무를 출력하는 코드작성\n",
        "- 사용변수:Grade\n",
        "- 사용수식:Grade>=70:\n"
      ],
      "metadata": {
        "id": "ZQBCx84P1Xoq"
      }
    },
    {
      "cell_type": "code",
      "source": [
        "Grade = int(input(\"성적입력: \"))\n",
        "if Grade >= 70:\n",
        "  print(\"70점 이상이므로 합격\")\n",
        "else:\n",
        "    print(\"70점 이하는 불합격\")"
      ],
      "metadata": {
        "colab": {
          "base_uri": "https://localhost:8080/"
        },
        "id": "M2QxNu8D2Kzi",
        "outputId": "5d9bb73b-c408-4c72-b82a-1fdf0fbf37c1"
      },
      "execution_count": 2,
      "outputs": [
        {
          "output_type": "stream",
          "name": "stdout",
          "text": [
            "성적입력: 80\n",
            "70점 이상이므로 합격\n"
          ]
        }
      ]
    },
    {
      "cell_type": "markdown",
      "source": [
        "2. 쇼핑몰의 배송료를 계산하는 코드 작성\n",
        "-변수명 : price, shopping_cost\n",
        "-수식 : price >= 20000"
      ],
      "metadata": {
        "id": "AAuxw-Nw3wLL"
      }
    },
    {
      "cell_type": "code",
      "source": [
        "price = int(input(\"구입금액 입력: \"))\n",
        "if price >= 20000:\n",
        "  shipping_cost = 0\n",
        "  print(f'구입금액이 {price}원 이상입니다.')\n",
        "else:\n",
        "    shipping_cost = 3000\n",
        "\n",
        "    print(\"구입금액이 2만원 이하입니다.\")\n",
        "    print(f'회원님의 배송료는 {shopping_cost}입니다.')"
      ],
      "metadata": {
        "colab": {
          "base_uri": "https://localhost:8080/"
        },
        "id": "2mzudhRU43Bq",
        "outputId": "966eb929-34f6-43cc-df4e-0dced3f3d082"
      },
      "execution_count": 7,
      "outputs": [
        {
          "output_type": "stream",
          "name": "stdout",
          "text": [
            "구입금액 입력: 20000\n",
            "구입금액이 20000원 이상입니다.\n"
          ]
        }
      ]
    },
    {
      "cell_type": "markdown",
      "source": [
        "3. 근무시간에 따라 초과근무와 정상근무를 판별하는 코드작성\n",
        "-변수 : work_hour\n",
        "-수식 ; >=, 기준시간;72시간"
      ],
      "metadata": {
        "id": "sHO7f4zt7_m0"
      }
    },
    {
      "cell_type": "code",
      "source": [
        "work_hour = int(input(\"근무시간 입력: \"))\n",
        "if work_hour >= 72:\n",
        " print(\"초과근무 하였습니다.\")\n",
        "else:\n",
        " print(\"정상근무 하였습니다.\")"
      ],
      "metadata": {
        "colab": {
          "base_uri": "https://localhost:8080/"
        },
        "id": "0n_zM2nf8hXs",
        "outputId": "a647ec60-9d71-4396-e4a1-f9b5ed5f30d8"
      },
      "execution_count": 13,
      "outputs": [
        {
          "output_type": "stream",
          "name": "stdout",
          "text": [
            "근무시간 입력: 72\n",
            "초과근무 하였습니다.\n"
          ]
        }
      ]
    },
    {
      "cell_type": "markdown",
      "source": [
        "4. 정수를 입력받아서 짝수인지 홀수인지 판별하는 코드 작성\n",
        "- 변수 : num\n",
        "- 수식 : (num%2)!=0:"
      ],
      "metadata": {
        "id": "ecB-UKik-1qD"
      }
    },
    {
      "cell_type": "code",
      "source": [
        "num = int(input('정수를 입력하시오:'))\n",
        "if (num%2) !=0:\n",
        "  print(\"홀수입니다.\")\n",
        "else:\n",
        "  print(\"짝수입니다.\")"
      ],
      "metadata": {
        "colab": {
          "base_uri": "https://localhost:8080/"
        },
        "id": "eAS9SmoY_sZc",
        "outputId": "c2271e64-c8ec-4394-e166-4a6347149172"
      },
      "execution_count": 15,
      "outputs": [
        {
          "output_type": "stream",
          "name": "stdout",
          "text": [
            "정수를 입력하시오:3\n",
            "홀수입니다.\n"
          ]
        }
      ]
    },
    {
      "cell_type": "markdown",
      "source": [
        "5. 사용자의 이름과 나이를 입력받고, 답변하는 코드 작성\n",
        "- 입력 : 성명 - name\n",
        "- 입력 : 나이 -age\n",
        "- 수식 : if age <= 20:\n",
        "\n",
        "최종 출력물\n",
        "- 이름을 입력하시오.: 김미진\n",
        "- 나이를 입력하시오.; 20\n",
        "- (1) 프로그래밍을 배우는 최적의 나이입니다.\n",
        "- (2) 아직도 늦지 않았습니다. 도전정신"
      ],
      "metadata": {
        "id": "69pE3SfyAsxs"
      }
    },
    {
      "cell_type": "code",
      "source": [
        "name = input(\"이름을 입력하시오.: \")\n",
        "age = int(input(\"나이를 입력하시오.: \"))\n",
        "if age <=20:\n",
        "  print(\"프로그래밍을 배우는 최적의 나이입니다.\")\n",
        "else:\n",
        "  print(\"아직도 늦지 않았습니다. 도전정신\")\n"
      ],
      "metadata": {
        "colab": {
          "base_uri": "https://localhost:8080/"
        },
        "id": "AiGajbjXBmnc",
        "outputId": "d71dd710-3fff-4fe9-c0d8-8d2c120d721d"
      },
      "execution_count": 22,
      "outputs": [
        {
          "output_type": "stream",
          "name": "stdout",
          "text": [
            "이름을 입력하시오.: 김미진\n",
            "나이를 입력하시오.: 22\n",
            "아직도 늦지 않았습니다. 도전정신\n"
          ]
        }
      ]
    },
    {
      "cell_type": "code",
      "source": [
        "import random\n",
        "\n",
        "def generate_lotto_numbers():\n",
        "    \"\"\"\n",
        "    1부터 45 사이의 숫자 중에서 6개의 숫자를 무작위로 선택하여 리스트로 반환하는 함수입니다.\n",
        "    \"\"\"\n",
        "    lotto_numbers = random.sample(range(1, 46), 6)\n",
        "    return lotto_numbers\n",
        "\n",
        "def main():\n",
        "    \"\"\"\n",
        "    메인 함수입니다. 로또 번호를 생성하고 출력하는 역할을 합니다.\n",
        "    \"\"\"\n",
        "    lotto_numbers = generate_lotto_numbers()\n",
        "    print(\"로또 번호: \", lotto_numbers)\n",
        "\n",
        "if __name__ == \"__main__\":\n",
        "    main()"
      ],
      "metadata": {
        "colab": {
          "base_uri": "https://localhost:8080/"
        },
        "id": "DphzYBzeFOQV",
        "outputId": "e984e8b1-aefc-41cf-a5d7-218700e4af6f"
      },
      "execution_count": 23,
      "outputs": [
        {
          "output_type": "stream",
          "name": "stdout",
          "text": [
            "로또 번호:  [1, 23, 39, 16, 31, 43]\n"
          ]
        }
      ]
    }
  ]
}