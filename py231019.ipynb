{
  "nbformat": 4,
  "nbformat_minor": 0,
  "metadata": {
    "colab": {
      "provenance": [],
      "authorship_tag": "ABX9TyMokW7LzOge9UhMk3vb3EmH",
      "include_colab_link": true
    },
    "kernelspec": {
      "name": "python3",
      "display_name": "Python 3"
    },
    "language_info": {
      "name": "python"
    }
  },
  "cells": [
    {
      "cell_type": "markdown",
      "metadata": {
        "id": "view-in-github",
        "colab_type": "text"
      },
      "source": [
        "<a href=\"https://colab.research.google.com/github/kimmijin34/code_3rd/blob/main/py231019.ipynb\" target=\"_parent\"><img src=\"https://colab.research.google.com/assets/colab-badge.svg\" alt=\"Open In Colab\"/></a>"
      ]
    },
    {
      "cell_type": "code",
      "execution_count": null,
      "metadata": {
        "id": "DIdIg9xJxkGt"
      },
      "outputs": [],
      "source": []
    },
    {
      "cell_type": "markdown",
      "source": [
        "1. To do list를 작성하시오\n",
        "  - 2023년 10월 19일 김미진\n",
        "  - (1) 09:20 도서관에서 책 빌리기\n",
        "  - (2) 11:10 컴퓨팅적사고와 기초코딩 수업\n",
        "  - (3) 13:00 점심식사\n",
        "  - (4) 14:00 교양수업\n",
        "  - (5) 16:00 파이썬 공부 및 레포트 작업\n",
        "  - (6) 17:40 저녁식사 및 집안일 돕기\n",
        "  - (7) 19:00 LOL하기\n"
      ],
      "metadata": {
        "id": "LmDQ-VaUyKM1"
      }
    },
    {
      "cell_type": "code",
      "source": [
        "print(\"2023년 10월 19일 김미진\")#2023년 10월 19일 김미진을 출력합니다.\n",
        "print(\"(1) 09:20 도서관에서 책 빌리기\")#09:20 도서관에서 책 빌리기를 출력합니다.\n",
        "print(\"(2) 11:10 컴퓨팅적 고와 기초코딩 수업\")#11:10 컴퓨팅적 사고와 기초코딩 수업을 출력합니다.\n",
        "print(\"(3) 13:00 점심식사\")#13:00 점심식사를 출력합니다.\n",
        "print(\"(4) 14:00 교양수업\")#14:00 교양수업을 출력합니다.\n",
        "print(\"(5)16:00 파이썬 공부 및 레포트 작업\")#16:00 파이썬 공부 및 레포트 작성을 출력합니다.\n",
        "print(\"(6) 17:40 저녁식사 및 집안일 돕기\")#17:40 저녁식사 및 집안일 돕기를 출력합니다.\n",
        "print(\"(7) 19:00 LOL하기\")#19:00 LOL하기를 훌력합니다."
      ],
      "metadata": {
        "colab": {
          "base_uri": "https://localhost:8080/"
        },
        "id": "FAu4EQsX0ra8",
        "outputId": "ac5c6d9c-3582-4a55-93c9-6f4078b4c16a"
      },
      "execution_count": null,
      "outputs": [
        {
          "output_type": "stream",
          "name": "stdout",
          "text": [
            "2023년 10월 19일 김미진\n",
            "(1) 09:20 도서관에서 책 빌리기\n",
            "(2) 11:10 컴퓨팅적 고와 기초코딩 수업\n",
            "(3) 13:00 점심식사\n",
            "(4) 14:00 교양수업\n",
            "(5)16:00 파이썬 공부 및 레포트 작업\n",
            "(6) 17:40 저녁식사 및 집안일 돕기\n",
            "(7) 19:00 LOL하기\n"
          ]
        }
      ]
    },
    {
      "cell_type": "markdown",
      "source": [
        "2. 인사말 출력하기\n",
        "- 식사하셨습니까? 행님?"
      ],
      "metadata": {
        "id": "NUE7Fff0za6e"
      }
    },
    {
      "cell_type": "code",
      "source": [
        "print(\"식사하셨습니까? 행님?\")#식사하셨습니까? 행님?을 출력합니다."
      ],
      "metadata": {
        "colab": {
          "base_uri": "https://localhost:8080/"
        },
        "id": "VjZ5NrLu4Ymr",
        "outputId": "7922a6e7-b589-4079-ed71-82cf59f9ebe7"
      },
      "execution_count": null,
      "outputs": [
        {
          "output_type": "stream",
          "name": "stdout",
          "text": [
            "식사하셨습니까? 행님?\n"
          ]
        }
      ]
    },
    {
      "cell_type": "markdown",
      "source": [
        "3. 학생 4명의 국어점수를 입력받아서 아래와 같이 출력하시오.\n",
        "- 박보검:90점\n",
        "-션:92점\n",
        "-도룡용:80점\n",
        "-차은우:99점\n",
        "-국어 점수 순위\n",
        "-1등 차은우\n",
        "-2등 션\n",
        "-3등 박보검\n",
        "-4등 도룡용\n"
      ],
      "metadata": {
        "id": "VFhEpXeQzxSN"
      }
    },
    {
      "cell_type": "code",
      "source": [
        "n1 = input(\"학생 점수를 입력하시오\")# 사용자로부터 첫 번째 학생의 점수를 입력받아 n1 변수에 저장합니다.\n",
        "n2 = input(\"학생 점수를 입력하시오\")# 사용자로부터 두 번째 학생의 점수를 입력받아 n2 변수에 저장합니다.\n",
        "n3 = input(\"학생 점수를 입력하시오\")# 사용자로부터 세 번째 학생의 점수를 입력받아 n3 변수에 저장합니다.\n",
        "n4 = input(\"학생 점수를 입력하시오\")# 사용자로부터 네 번째 학생의 점수를 입력받아 n4 변수에 저장합니다.\n",
        "print(\"국어 점수 순위\")\n",
        "print(\"1등\", n4)# 가장 높은 점수인 n4를 1등으로 출력합니다.\n",
        "print(\"2등\", n2)# 두 번째로 높은 점수인 n2를 2등으로 출력합니다.\n",
        "print(\"3등\", n1)# 세 번째로 높은 점수인 n1을 3등으로 출력합니다.\n",
        "print(\"4등\", n3)# 가장 낮은 점수인 n3을 4등으로 출력합니다."
      ],
      "metadata": {
        "colab": {
          "base_uri": "https://localhost:8080/"
        },
        "id": "IY1ggXVe5mFz",
        "outputId": "028a8fa1-e0f0-440b-965c-adaed0a8e874"
      },
      "execution_count": null,
      "outputs": [
        {
          "output_type": "stream",
          "name": "stdout",
          "text": [
            "학생 점수를 입력하시오박보검 90점\n",
            "학생 점수를 입력하시오션 92점\n",
            "학생 점수를 입력하시오도룡용 80점\n",
            "학생 점수를 입력하시오차은우 99점\n",
            "국어 점수 순위\n",
            "1등 차은우 99점\n",
            "2등 션 92점\n",
            "3등 박보검 90점\n",
            "4등 도룡용 80점\n"
          ]
        }
      ]
    },
    {
      "cell_type": "markdown",
      "source": [
        "4. 두개의 점수를 입력받아서 합계와 평균을 출력하시오."
      ],
      "metadata": {
        "id": "HPXCxzxn0WMW"
      }
    },
    {
      "cell_type": "code",
      "source": [
        "n1 = int(input(\"n1의 값을 입력하시오\"))# 사용자로부터 n1의 값을 입력받아 정수로 변환하여 n1 변수에 저장합니다.\n",
        "n2 = int(input(\"n2의 값을 입력하시오\"))# 사용자로부터 n2의 값을 입력받아 정수로 변환하여 n2 변수에 저장합니다.\n",
        "total = n1+n2# n1과 n2의 값을 더하여 total 변수에 저장합니다.\n",
        "average = total / 2# total 값을 2로 나누어서 average 변수에 저장합니다.\n",
        "print(total) # total 값을 출력합니다.\n",
        "print(average) # average 값을 출력합니다.\n"
      ],
      "metadata": {
        "colab": {
          "base_uri": "https://localhost:8080/"
        },
        "id": "zHsLSI7168Bh",
        "outputId": "54a1f5c6-a408-44e9-8b36-6e050a75cd1d"
      },
      "execution_count": null,
      "outputs": [
        {
          "output_type": "stream",
          "name": "stdout",
          "text": [
            "n1의 값을 입력하시오2\n",
            "n2의 값을 입력하시오2\n",
            "4\n",
            "2.0\n"
          ]
        }
      ]
    },
    {
      "cell_type": "markdown",
      "source": [],
      "metadata": {
        "id": "R1-rIREPxsMQ"
      }
    }
  ]
}